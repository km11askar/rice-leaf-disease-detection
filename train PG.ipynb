{
 "cells": [
  {
   "cell_type": "markdown",
   "id": "62000cd6-e0a0-4901-83c8-f64ca99de4bd",
   "metadata": {},
   "source": [
    "#import libraries"
   ]
  },
  {
   "cell_type": "code",
   "execution_count": 1,
   "id": "3d671511-ca3b-4eda-9d77-497b25e8f858",
   "metadata": {},
   "outputs": [],
   "source": [
    "import tensorflow as tf\n",
    "\n",
    "import matplotlib.pyplot as plt\n",
    "\n",
    "import seaborn as sns\n",
    "import pandas as pd"
   ]
  },
  {
   "cell_type": "code",
   "execution_count": 2,
   "id": "50e63b2d-d7f8-49ad-93be-050092dc676c",
   "metadata": {},
   "outputs": [
    {
     "name": "stdout",
     "output_type": "stream",
     "text": [
      "Requirement already satisfied: tensorflow in c:\\users\\thinkpad\\.conda\\envs\\pgnew\\lib\\site-packages (2.18.0)\n",
      "Requirement already satisfied: tensorflow-intel==2.18.0 in c:\\users\\thinkpad\\.conda\\envs\\pgnew\\lib\\site-packages (from tensorflow) (2.18.0)\n",
      "Requirement already satisfied: absl-py>=1.0.0 in c:\\users\\thinkpad\\.conda\\envs\\pgnew\\lib\\site-packages (from tensorflow-intel==2.18.0->tensorflow) (2.1.0)\n",
      "Requirement already satisfied: astunparse>=1.6.0 in c:\\users\\thinkpad\\.conda\\envs\\pgnew\\lib\\site-packages (from tensorflow-intel==2.18.0->tensorflow) (1.6.3)\n",
      "Requirement already satisfied: flatbuffers>=24.3.25 in c:\\users\\thinkpad\\.conda\\envs\\pgnew\\lib\\site-packages (from tensorflow-intel==2.18.0->tensorflow) (24.3.25)\n",
      "Requirement already satisfied: gast!=0.5.0,!=0.5.1,!=0.5.2,>=0.2.1 in c:\\users\\thinkpad\\.conda\\envs\\pgnew\\lib\\site-packages (from tensorflow-intel==2.18.0->tensorflow) (0.6.0)\n",
      "Requirement already satisfied: google-pasta>=0.1.1 in c:\\users\\thinkpad\\.conda\\envs\\pgnew\\lib\\site-packages (from tensorflow-intel==2.18.0->tensorflow) (0.2.0)\n",
      "Requirement already satisfied: libclang>=13.0.0 in c:\\users\\thinkpad\\.conda\\envs\\pgnew\\lib\\site-packages (from tensorflow-intel==2.18.0->tensorflow) (18.1.1)\n",
      "Requirement already satisfied: opt-einsum>=2.3.2 in c:\\users\\thinkpad\\.conda\\envs\\pgnew\\lib\\site-packages (from tensorflow-intel==2.18.0->tensorflow) (3.4.0)\n",
      "Requirement already satisfied: packaging in c:\\users\\thinkpad\\.conda\\envs\\pgnew\\lib\\site-packages (from tensorflow-intel==2.18.0->tensorflow) (24.2)\n",
      "Requirement already satisfied: protobuf!=4.21.0,!=4.21.1,!=4.21.2,!=4.21.3,!=4.21.4,!=4.21.5,<6.0.0dev,>=3.20.3 in c:\\users\\thinkpad\\.conda\\envs\\pgnew\\lib\\site-packages (from tensorflow-intel==2.18.0->tensorflow) (5.29.2)\n",
      "Requirement already satisfied: requests<3,>=2.21.0 in c:\\users\\thinkpad\\.conda\\envs\\pgnew\\lib\\site-packages (from tensorflow-intel==2.18.0->tensorflow) (2.32.3)\n",
      "Requirement already satisfied: setuptools in c:\\users\\thinkpad\\.conda\\envs\\pgnew\\lib\\site-packages (from tensorflow-intel==2.18.0->tensorflow) (75.1.0)\n",
      "Requirement already satisfied: six>=1.12.0 in c:\\users\\thinkpad\\.conda\\envs\\pgnew\\lib\\site-packages (from tensorflow-intel==2.18.0->tensorflow) (1.16.0)\n",
      "Requirement already satisfied: termcolor>=1.1.0 in c:\\users\\thinkpad\\.conda\\envs\\pgnew\\lib\\site-packages (from tensorflow-intel==2.18.0->tensorflow) (2.5.0)\n",
      "Requirement already satisfied: typing-extensions>=3.6.6 in c:\\users\\thinkpad\\.conda\\envs\\pgnew\\lib\\site-packages (from tensorflow-intel==2.18.0->tensorflow) (4.11.0)\n",
      "Requirement already satisfied: wrapt>=1.11.0 in c:\\users\\thinkpad\\.conda\\envs\\pgnew\\lib\\site-packages (from tensorflow-intel==2.18.0->tensorflow) (1.17.0)\n",
      "Requirement already satisfied: grpcio<2.0,>=1.24.3 in c:\\users\\thinkpad\\.conda\\envs\\pgnew\\lib\\site-packages (from tensorflow-intel==2.18.0->tensorflow) (1.68.1)\n",
      "Requirement already satisfied: tensorboard<2.19,>=2.18 in c:\\users\\thinkpad\\.conda\\envs\\pgnew\\lib\\site-packages (from tensorflow-intel==2.18.0->tensorflow) (2.18.0)\n",
      "Requirement already satisfied: keras>=3.5.0 in c:\\users\\thinkpad\\.conda\\envs\\pgnew\\lib\\site-packages (from tensorflow-intel==2.18.0->tensorflow) (3.7.0)\n",
      "Requirement already satisfied: numpy<2.1.0,>=1.26.0 in c:\\users\\thinkpad\\.conda\\envs\\pgnew\\lib\\site-packages (from tensorflow-intel==2.18.0->tensorflow) (2.0.2)\n",
      "Requirement already satisfied: h5py>=3.11.0 in c:\\users\\thinkpad\\.conda\\envs\\pgnew\\lib\\site-packages (from tensorflow-intel==2.18.0->tensorflow) (3.12.1)\n",
      "Requirement already satisfied: ml-dtypes<0.5.0,>=0.4.0 in c:\\users\\thinkpad\\.conda\\envs\\pgnew\\lib\\site-packages (from tensorflow-intel==2.18.0->tensorflow) (0.4.1)\n",
      "Requirement already satisfied: tensorflow-io-gcs-filesystem>=0.23.1 in c:\\users\\thinkpad\\.conda\\envs\\pgnew\\lib\\site-packages (from tensorflow-intel==2.18.0->tensorflow) (0.31.0)\n",
      "Requirement already satisfied: wheel<1.0,>=0.23.0 in c:\\users\\thinkpad\\.conda\\envs\\pgnew\\lib\\site-packages (from astunparse>=1.6.0->tensorflow-intel==2.18.0->tensorflow) (0.44.0)\n",
      "Requirement already satisfied: rich in c:\\users\\thinkpad\\.conda\\envs\\pgnew\\lib\\site-packages (from keras>=3.5.0->tensorflow-intel==2.18.0->tensorflow) (13.9.4)\n",
      "Requirement already satisfied: namex in c:\\users\\thinkpad\\.conda\\envs\\pgnew\\lib\\site-packages (from keras>=3.5.0->tensorflow-intel==2.18.0->tensorflow) (0.0.8)\n",
      "Requirement already satisfied: optree in c:\\users\\thinkpad\\.conda\\envs\\pgnew\\lib\\site-packages (from keras>=3.5.0->tensorflow-intel==2.18.0->tensorflow) (0.13.1)\n",
      "Requirement already satisfied: charset-normalizer<4,>=2 in c:\\users\\thinkpad\\.conda\\envs\\pgnew\\lib\\site-packages (from requests<3,>=2.21.0->tensorflow-intel==2.18.0->tensorflow) (3.3.2)\n",
      "Requirement already satisfied: idna<4,>=2.5 in c:\\users\\thinkpad\\.conda\\envs\\pgnew\\lib\\site-packages (from requests<3,>=2.21.0->tensorflow-intel==2.18.0->tensorflow) (3.7)\n",
      "Requirement already satisfied: urllib3<3,>=1.21.1 in c:\\users\\thinkpad\\.conda\\envs\\pgnew\\lib\\site-packages (from requests<3,>=2.21.0->tensorflow-intel==2.18.0->tensorflow) (2.2.3)\n",
      "Requirement already satisfied: certifi>=2017.4.17 in c:\\users\\thinkpad\\.conda\\envs\\pgnew\\lib\\site-packages (from requests<3,>=2.21.0->tensorflow-intel==2.18.0->tensorflow) (2024.12.14)\n",
      "Requirement already satisfied: markdown>=2.6.8 in c:\\users\\thinkpad\\.conda\\envs\\pgnew\\lib\\site-packages (from tensorboard<2.19,>=2.18->tensorflow-intel==2.18.0->tensorflow) (3.7)\n",
      "Requirement already satisfied: tensorboard-data-server<0.8.0,>=0.7.0 in c:\\users\\thinkpad\\.conda\\envs\\pgnew\\lib\\site-packages (from tensorboard<2.19,>=2.18->tensorflow-intel==2.18.0->tensorflow) (0.7.2)\n",
      "Requirement already satisfied: werkzeug>=1.0.1 in c:\\users\\thinkpad\\.conda\\envs\\pgnew\\lib\\site-packages (from tensorboard<2.19,>=2.18->tensorflow-intel==2.18.0->tensorflow) (3.1.3)\n",
      "Requirement already satisfied: MarkupSafe>=2.1.1 in c:\\users\\thinkpad\\.conda\\envs\\pgnew\\lib\\site-packages (from werkzeug>=1.0.1->tensorboard<2.19,>=2.18->tensorflow-intel==2.18.0->tensorflow) (2.1.3)\n",
      "Requirement already satisfied: markdown-it-py>=2.2.0 in c:\\users\\thinkpad\\.conda\\envs\\pgnew\\lib\\site-packages (from rich->keras>=3.5.0->tensorflow-intel==2.18.0->tensorflow) (3.0.0)\n",
      "Requirement already satisfied: pygments<3.0.0,>=2.13.0 in c:\\users\\thinkpad\\.conda\\envs\\pgnew\\lib\\site-packages (from rich->keras>=3.5.0->tensorflow-intel==2.18.0->tensorflow) (2.15.1)\n",
      "Requirement already satisfied: mdurl~=0.1 in c:\\users\\thinkpad\\.conda\\envs\\pgnew\\lib\\site-packages (from markdown-it-py>=2.2.0->rich->keras>=3.5.0->tensorflow-intel==2.18.0->tensorflow) (0.1.2)\n",
      "Note: you may need to restart the kernel to use updated packages.\n"
     ]
    }
   ],
   "source": [
    "pip install tensorflow\n"
   ]
  },
  {
   "cell_type": "markdown",
   "id": "f5f069d0-fb6b-4f3b-884f-19812ebdc0f2",
   "metadata": {},
   "source": [
    "#DATA PREPROCESSING\n",
    "### training image preprocessing"
   ]
  },
  {
   "cell_type": "code",
   "execution_count": 3,
   "id": "d795e56e-0abb-4daf-ba69-9c30dd72216e",
   "metadata": {},
   "outputs": [
    {
     "name": "stdout",
     "output_type": "stream",
     "text": [
      "Found 12908 files belonging to 10 classes.\n"
     ]
    }
   ],
   "source": [
    "training_set = tf.keras.utils.image_dataset_from_directory(\n",
    "    'train',\n",
    "    labels=\"inferred\",\n",
    "    label_mode=\"categorical\",\n",
    "    class_names=None,\n",
    "    color_mode=\"rgb\",\n",
    "    batch_size=32,\n",
    "    image_size=(256, 256),\n",
    "    shuffle=True,\n",
    "    seed=None,\n",
    "    validation_split=None,\n",
    "    subset=None,\n",
    "    interpolation=\"bilinear\",\n",
    "    follow_links=False,\n",
    "    crop_to_aspect_ratio=False,\n",
    " \n",
    "\n",
    ")"
   ]
  },
  {
   "cell_type": "markdown",
   "id": "d5111d59-72bc-4d68-ab88-406e5771869f",
   "metadata": {},
   "source": [
    "## validation image processing"
   ]
  },
  {
   "cell_type": "code",
   "execution_count": 4,
   "id": "861ab7de-c6ac-4e2e-ade1-f17f92ff75a3",
   "metadata": {},
   "outputs": [
    {
     "name": "stdout",
     "output_type": "stream",
     "text": [
      "Found 2761 files belonging to 10 classes.\n"
     ]
    }
   ],
   "source": [
    "validation_set = tf.keras.utils.image_dataset_from_directory(\n",
    "    'valid',\n",
    "    labels=\"inferred\",\n",
    "    label_mode=\"categorical\",\n",
    "    class_names=None,\n",
    "    color_mode=\"rgb\",\n",
    "    batch_size=32,\n",
    "    image_size=(256, 256),\n",
    "    shuffle=True,\n",
    "    seed=None,\n",
    "    validation_split=None,\n",
    "    subset=None,\n",
    "    interpolation=\"bilinear\",\n",
    "    follow_links=False,\n",
    "    crop_to_aspect_ratio=False,\n",
    " \n",
    "\n",
    ")"
   ]
  },
  {
   "cell_type": "code",
   "execution_count": 5,
   "id": "f7402e96-a769-4cfb-9ff4-56c229a58aed",
   "metadata": {},
   "outputs": [
    {
     "data": {
      "text/plain": [
       "<_PrefetchDataset element_spec=(TensorSpec(shape=(None, 256, 256, 3), dtype=tf.float32, name=None), TensorSpec(shape=(None, 10), dtype=tf.float32, name=None))>"
      ]
     },
     "execution_count": 5,
     "metadata": {},
     "output_type": "execute_result"
    }
   ],
   "source": [
    "training_set"
   ]
  },
  {
   "cell_type": "code",
   "execution_count": 6,
   "id": "521f9b73-7c28-4aba-b957-8ac8355f9fc5",
   "metadata": {},
   "outputs": [
    {
     "name": "stdout",
     "output_type": "stream",
     "text": [
      "tf.Tensor(\n",
      "[[[[ 48.         70.         23.       ]\n",
      "   [ 48.8125     70.8125     23.8125   ]\n",
      "   [ 49.         71.         22.625    ]\n",
      "   ...\n",
      "   [124.25      147.1875     74.375    ]\n",
      "   [116.375     141.5625     74.125    ]\n",
      "   [118.        144.         79.       ]]\n",
      "\n",
      "  [[ 48.         70.         23.       ]\n",
      "   [ 48.8125     70.8125     23.8125   ]\n",
      "   [ 49.558594   71.55859    23.183594 ]\n",
      "   ...\n",
      "   [124.25      147.1875     74.375    ]\n",
      "   [116.375     141.5625     74.125    ]\n",
      "   [118.        144.         79.       ]]\n",
      "\n",
      "  [[ 48.6875     70.6875     23.6875   ]\n",
      "   [ 48.941406   70.94141    23.941406 ]\n",
      "   [ 49.6875     71.6875     23.3125   ]\n",
      "   ...\n",
      "   [124.25      147.1875     74.375    ]\n",
      "   [116.50391   141.6914     74.25391  ]\n",
      "   [118.6875    144.6875     79.6875   ]]\n",
      "\n",
      "  ...\n",
      "\n",
      "  [[ 29.375      73.         18.0625   ]\n",
      "   [ 29.578125   68.328125   15.5234375]\n",
      "   [ 33.36328    60.933594   12.9609375]\n",
      "   ...\n",
      "   [138.94531   184.09766    49.60547  ]\n",
      "   [137.0664    183.55469    49.5625   ]\n",
      "   [136.        183.25       49.5625   ]]\n",
      "\n",
      "  [[ 29.125      74.6875     17.5      ]\n",
      "   [ 30.800781   71.18359    17.398438 ]\n",
      "   [ 32.94922    61.007812   12.8203125]\n",
      "   ...\n",
      "   [138.75781   185.5039     52.058594 ]\n",
      "   [137.4375    185.49219    53.527344 ]\n",
      "   [135.8125    186.         53.375    ]]\n",
      "\n",
      "  [[ 34.         82.         24.       ]\n",
      "   [ 32.375      73.875      19.9375   ]\n",
      "   [ 35.4375     63.75       15.5625   ]\n",
      "   ...\n",
      "   [139.0625    187.6875     53.9375   ]\n",
      "   [136.625     186.8125     55.8125   ]\n",
      "   [135.        186.         55.       ]]]\n",
      "\n",
      "\n",
      " [[[230.        230.        240.       ]\n",
      "   [221.0625    221.0625    231.0625   ]\n",
      "   [217.625     217.625     227.625    ]\n",
      "   ...\n",
      "   [236.6875    237.6875    242.6875   ]\n",
      "   [236.1875    237.1875    242.1875   ]\n",
      "   [237.        238.        243.       ]]\n",
      "\n",
      "  [[221.875     221.875     231.875    ]\n",
      "   [222.17969   222.17969   232.17969  ]\n",
      "   [219.19922   219.19922   229.19922  ]\n",
      "   ...\n",
      "   [234.75781   235.75781   240.75781  ]\n",
      "   [235.375     236.375     241.375    ]\n",
      "   [236.1875    237.1875    242.1875   ]]\n",
      "\n",
      "  [[220.        220.        228.625    ]\n",
      "   [222.9961    222.9961    231.6211   ]\n",
      "   [220.25      220.25      228.875    ]\n",
      "   ...\n",
      "   [235.94531   236.94531   241.94531  ]\n",
      "   [235.61719   236.61719   241.61719  ]\n",
      "   [235.3125    236.3125    241.3125   ]]\n",
      "\n",
      "  ...\n",
      "\n",
      "  [[230.8125    229.8125    243.8125   ]\n",
      "   [228.22266   227.22266   241.22266  ]\n",
      "   [230.46094   229.46094   243.46094  ]\n",
      "   ...\n",
      "   [240.25781   240.25781   250.25781  ]\n",
      "   [240.07031   240.07031   250.07031  ]\n",
      "   [240.375     240.375     250.375    ]]\n",
      "\n",
      "  [[235.6875    234.6875    248.6875   ]\n",
      "   [230.2539    229.2539    243.2539   ]\n",
      "   [229.38672   228.38672   242.38672  ]\n",
      "   ...\n",
      "   [239.1836    239.1836    249.1836   ]\n",
      "   [239.77734   239.77734   249.77734  ]\n",
      "   [238.8125    238.8125    248.8125   ]]\n",
      "\n",
      "  [[230.        229.        243.       ]\n",
      "   [229.1875    228.1875    242.1875   ]\n",
      "   [231.0625    230.0625    244.0625   ]\n",
      "   ...\n",
      "   [238.625     238.625     248.625    ]\n",
      "   [239.625     239.625     249.625    ]\n",
      "   [238.        238.        248.       ]]]\n",
      "\n",
      "\n",
      " [[[ 72.        105.         14.       ]\n",
      "   [ 72.        105.         14.       ]\n",
      "   [ 76.125     110.5        20.1875   ]\n",
      "   ...\n",
      "   [137.0625    193.9375     43.75     ]\n",
      "   [119.5       168.375      37.625    ]\n",
      "   [100.        144.         23.       ]]\n",
      "\n",
      "  [[ 76.875     109.875      18.875    ]\n",
      "   [ 74.89453   107.89453    16.894531 ]\n",
      "   [ 70.74219   105.11719    14.8046875]\n",
      "   ...\n",
      "   [135.48828   189.36719    42.734375 ]\n",
      "   [113.50781   159.94531    31.632812 ]\n",
      "   [ 82.125     123.6875      5.125    ]]\n",
      "\n",
      "  [[ 76.625     109.625      18.625    ]\n",
      "   [ 75.30469   108.30469    17.304688 ]\n",
      "   [ 70.44531   104.82031    14.5078125]\n",
      "   ...\n",
      "   [140.32422   191.0625     49.33203  ]\n",
      "   [114.57422   155.63672    33.38672  ]\n",
      "   [ 91.0625    127.25       14.75     ]]\n",
      "\n",
      "  ...\n",
      "\n",
      "  [[176.125     183.3125    156.125    ]\n",
      "   [186.38281   197.3789    172.42578  ]\n",
      "   [177.1914    192.5039    173.39453  ]\n",
      "   ...\n",
      "   [175.17578   194.23047    45.507812 ]\n",
      "   [176.58594   192.14453    42.589844 ]\n",
      "   [175.0625    189.25       40.       ]]\n",
      "\n",
      "  [[166.3125    166.75      133.625    ]\n",
      "   [197.4414    200.82422   168.0039   ]\n",
      "   [207.16016   214.78906   185.08984  ]\n",
      "   ...\n",
      "   [162.79688   187.61328    38.058594 ]\n",
      "   [164.88281   185.22266    33.847656 ]\n",
      "   [162.75      182.125      29.9375   ]]\n",
      "\n",
      "  [[ 94.         92.         54.       ]\n",
      "   [172.        171.625     135.25     ]\n",
      "   [206.5       210.625     176.       ]\n",
      "   ...\n",
      "   [158.125     185.9375     36.6875   ]\n",
      "   [156.25      178.875      26.6875   ]\n",
      "   [166.        187.         34.       ]]]\n",
      "\n",
      "\n",
      " ...\n",
      "\n",
      "\n",
      " [[[ 77.         67.         58.       ]\n",
      "   [ 76.1875     66.1875     57.1875   ]\n",
      "   [ 75.3125     65.3125     56.3125   ]\n",
      "   ...\n",
      "   [ 76.1875     69.25       58.1875   ]\n",
      "   [ 71.875      62.875      54.25     ]\n",
      "   [ 80.         71.         64.       ]]\n",
      "\n",
      "  [[ 77.8125     67.8125     58.8125   ]\n",
      "   [ 77.66016    67.66016    58.660156 ]\n",
      "   [ 76.9375     66.9375     57.9375   ]\n",
      "   ...\n",
      "   [ 75.88281    68.94531    57.882812 ]\n",
      "   [ 72.53516    63.535156   54.910156 ]\n",
      "   [ 80.         71.         64.       ]]\n",
      "\n",
      "  [[ 80.75       70.75       61.0625   ]\n",
      "   [ 80.75       70.75       61.0625   ]\n",
      "   [ 80.0625     70.0625     60.375    ]\n",
      "   ...\n",
      "   [ 74.86719    67.92969    56.867188 ]\n",
      "   [ 72.81641    63.816406   55.191406 ]\n",
      "   [ 80.6875     71.6875     64.6875   ]]\n",
      "\n",
      "  ...\n",
      "\n",
      "  [[117.8125     96.875      88.1875   ]\n",
      "   [115.93359    96.875      87.375    ]\n",
      "   [115.5        95.28516    86.28516  ]\n",
      "   ...\n",
      "   [141.9375    167.875      83.875    ]\n",
      "   [140.25781   168.25781    84.25781  ]\n",
      "   [138.9375    166.9375     82.9375   ]]\n",
      "\n",
      "  [[124.375     101.375      93.375    ]\n",
      "   [122.24219   101.22266    92.5625   ]\n",
      "   [121.75       99.51172    91.25781  ]\n",
      "   ...\n",
      "   [145.        170.9375     86.9375   ]\n",
      "   [143.27344   171.27344    87.27344  ]\n",
      "   [141.75      169.75       85.75     ]]\n",
      "\n",
      "  [[126.        103.         95.       ]\n",
      "   [125.1875    102.1875     94.1875   ]\n",
      "   [125.        102.         94.       ]\n",
      "   ...\n",
      "   [143.375     169.3125     85.3125   ]\n",
      "   [142.5625    170.5625     86.5625   ]\n",
      "   [145.        173.         89.       ]]]\n",
      "\n",
      "\n",
      " [[[199.        201.        198.       ]\n",
      "   [199.        201.        198.       ]\n",
      "   [199.6875    201.6875    198.6875   ]\n",
      "   ...\n",
      "   [205.625     206.625     201.625    ]\n",
      "   [205.5       206.5       201.5      ]\n",
      "   [199.        200.        195.       ]]\n",
      "\n",
      "  [[197.375     199.375     196.375    ]\n",
      "   [198.03516   200.03516   197.03516  ]\n",
      "   [199.4336    201.4336    198.4336   ]\n",
      "   ...\n",
      "   [206.4375    207.4375    202.4375   ]\n",
      "   [206.76953   207.76953   202.76953  ]\n",
      "   [202.25      203.25      198.25     ]]\n",
      "\n",
      "  [[197.        199.        196.       ]\n",
      "   [198.3711    200.3711    197.3711   ]\n",
      "   [199.58984   201.58984   198.58984  ]\n",
      "   ...\n",
      "   [206.41016   207.41016   202.41016  ]\n",
      "   [206.89062   207.89062   202.89062  ]\n",
      "   [205.0625    206.0625    201.0625   ]]\n",
      "\n",
      "  ...\n",
      "\n",
      "  [[175.3125    177.3125    176.3125   ]\n",
      "   [177.4961    179.4961    178.4961   ]\n",
      "   [176.45312   178.45312   177.45312  ]\n",
      "   ...\n",
      "   [181.21484   182.21484   184.21484  ]\n",
      "   [180.50781   181.50781   183.50781  ]\n",
      "   [178.375     179.375     181.375    ]]\n",
      "\n",
      "  [[176.1875    178.1875    177.1875   ]\n",
      "   [177.96484   179.96484   178.96484  ]\n",
      "   [175.19531   177.19531   176.19531  ]\n",
      "   ...\n",
      "   [180.73828   181.73828   183.73828  ]\n",
      "   [179.82812   180.82812   182.82812  ]\n",
      "   [177.1875    178.1875    180.1875   ]]\n",
      "\n",
      "  [[177.        179.        178.       ]\n",
      "   [179.4375    181.4375    180.4375   ]\n",
      "   [177.9375    179.9375    178.9375   ]\n",
      "   ...\n",
      "   [176.625     177.625     179.625    ]\n",
      "   [178.        179.        181.       ]\n",
      "   [178.        179.        181.       ]]]\n",
      "\n",
      "\n",
      " [[[255.        255.        255.       ]\n",
      "   [255.        255.        255.       ]\n",
      "   [255.        255.        255.       ]\n",
      "   ...\n",
      "   [255.        255.        255.       ]\n",
      "   [255.        255.        255.       ]\n",
      "   [255.        255.        255.       ]]\n",
      "\n",
      "  [[255.        255.        255.       ]\n",
      "   [255.        255.        255.       ]\n",
      "   [255.        255.        255.       ]\n",
      "   ...\n",
      "   [255.        255.        255.       ]\n",
      "   [255.        255.        255.       ]\n",
      "   [255.        255.        255.       ]]\n",
      "\n",
      "  [[255.        255.        255.       ]\n",
      "   [255.        255.        255.       ]\n",
      "   [255.        255.        255.       ]\n",
      "   ...\n",
      "   [255.        255.        255.       ]\n",
      "   [255.        255.        255.       ]\n",
      "   [255.        255.        255.       ]]\n",
      "\n",
      "  ...\n",
      "\n",
      "  [[255.        255.        255.       ]\n",
      "   [255.        255.        255.       ]\n",
      "   [255.        255.        255.       ]\n",
      "   ...\n",
      "   [255.        255.        255.       ]\n",
      "   [255.        255.        255.       ]\n",
      "   [255.        255.        255.       ]]\n",
      "\n",
      "  [[255.        255.        255.       ]\n",
      "   [255.        255.        255.       ]\n",
      "   [255.        255.        255.       ]\n",
      "   ...\n",
      "   [255.        255.        255.       ]\n",
      "   [255.        255.        255.       ]\n",
      "   [255.        255.        255.       ]]\n",
      "\n",
      "  [[255.        255.        255.       ]\n",
      "   [255.        255.        255.       ]\n",
      "   [255.        255.        255.       ]\n",
      "   ...\n",
      "   [255.        255.        255.       ]\n",
      "   [255.        255.        255.       ]\n",
      "   [255.        255.        255.       ]]]], shape=(32, 256, 256, 3), dtype=float32) (32, 256, 256, 3)\n",
      "tf.Tensor(\n",
      "[[0. 0. 0. 1. 0. 0. 0. 0. 0. 0.]\n",
      " [0. 0. 1. 0. 0. 0. 0. 0. 0. 0.]\n",
      " [0. 0. 0. 0. 0. 0. 0. 0. 1. 0.]\n",
      " [0. 0. 0. 0. 0. 0. 0. 0. 1. 0.]\n",
      " [0. 0. 0. 0. 0. 0. 0. 0. 0. 1.]\n",
      " [0. 0. 0. 0. 0. 0. 0. 0. 0. 1.]\n",
      " [1. 0. 0. 0. 0. 0. 0. 0. 0. 0.]\n",
      " [0. 0. 0. 0. 0. 0. 0. 1. 0. 0.]\n",
      " [0. 0. 0. 1. 0. 0. 0. 0. 0. 0.]\n",
      " [0. 0. 0. 0. 0. 1. 0. 0. 0. 0.]\n",
      " [0. 0. 0. 0. 1. 0. 0. 0. 0. 0.]\n",
      " [0. 1. 0. 0. 0. 0. 0. 0. 0. 0.]\n",
      " [0. 0. 0. 0. 0. 0. 0. 0. 1. 0.]\n",
      " [0. 0. 0. 0. 0. 0. 1. 0. 0. 0.]\n",
      " [0. 0. 0. 0. 1. 0. 0. 0. 0. 0.]\n",
      " [0. 0. 0. 1. 0. 0. 0. 0. 0. 0.]\n",
      " [0. 0. 0. 0. 0. 0. 0. 0. 1. 0.]\n",
      " [0. 0. 0. 0. 0. 0. 1. 0. 0. 0.]\n",
      " [0. 0. 0. 1. 0. 0. 0. 0. 0. 0.]\n",
      " [0. 0. 0. 0. 0. 1. 0. 0. 0. 0.]\n",
      " [0. 0. 0. 0. 0. 0. 0. 1. 0. 0.]\n",
      " [0. 0. 0. 0. 0. 0. 0. 0. 0. 1.]\n",
      " [0. 0. 0. 0. 0. 0. 1. 0. 0. 0.]\n",
      " [1. 0. 0. 0. 0. 0. 0. 0. 0. 0.]\n",
      " [0. 0. 0. 0. 0. 1. 0. 0. 0. 0.]\n",
      " [1. 0. 0. 0. 0. 0. 0. 0. 0. 0.]\n",
      " [0. 0. 0. 0. 0. 0. 0. 0. 1. 0.]\n",
      " [0. 1. 0. 0. 0. 0. 0. 0. 0. 0.]\n",
      " [0. 0. 0. 0. 1. 0. 0. 0. 0. 0.]\n",
      " [0. 0. 0. 0. 0. 0. 0. 0. 0. 1.]\n",
      " [0. 0. 0. 0. 0. 0. 1. 0. 0. 0.]\n",
      " [0. 0. 0. 0. 1. 0. 0. 0. 0. 0.]], shape=(32, 10), dtype=float32) (32, 10)\n"
     ]
    }
   ],
   "source": [
    "for x,y in training_set:\n",
    "    print(x,x.shape)\n",
    "    print(y,y.shape)\n",
    "    break"
   ]
  },
  {
   "cell_type": "code",
   "execution_count": null,
   "id": "df293c20-a518-42db-9b0d-c405201844a2",
   "metadata": {},
   "outputs": [],
   "source": []
  },
  {
   "cell_type": "markdown",
   "id": "35ed375c-3a4e-45a2-b66a-8f2049ad1943",
   "metadata": {},
   "source": [
    "BUILDING MODEL"
   ]
  },
  {
   "cell_type": "code",
   "execution_count": 7,
   "id": "81d8a92e-5079-48b2-a4df-830d671d39f8",
   "metadata": {},
   "outputs": [],
   "source": [
    "from tensorflow.keras.layers import Dense,Conv2D,MaxPool2D,Flatten,Dropout\n",
    "from tensorflow.keras.models import Sequential"
   ]
  },
  {
   "cell_type": "code",
   "execution_count": 8,
   "id": "957c89c0-1650-4bd2-9b58-a2df94700bdd",
   "metadata": {},
   "outputs": [],
   "source": [
    "model = Sequential()"
   ]
  },
  {
   "cell_type": "markdown",
   "id": "e359dd71-f825-429e-aa04-9da96ef4d522",
   "metadata": {},
   "source": [
    "## Building Convolution layer"
   ]
  },
  {
   "cell_type": "code",
   "execution_count": 9,
   "id": "5a389973-1a8b-408e-808d-d20a9348f8ce",
   "metadata": {},
   "outputs": [
    {
     "name": "stderr",
     "output_type": "stream",
     "text": [
      "C:\\Users\\THINKPAD\\.conda\\envs\\PGnew\\lib\\site-packages\\keras\\src\\layers\\convolutional\\base_conv.py:107: UserWarning: Do not pass an `input_shape`/`input_dim` argument to a layer. When using Sequential models, prefer using an `Input(shape)` object as the first layer in the model instead.\n",
      "  super().__init__(activity_regularizer=activity_regularizer, **kwargs)\n"
     ]
    }
   ],
   "source": [
    "model.add(Conv2D(filters=32,kernel_size=3,padding='same',activation='relu',input_shape=[256,256,3]))\n",
    "model.add(Conv2D(filters=32,kernel_size=3,activation='relu'))\n",
    "model.add(MaxPool2D(pool_size=2,strides=2,))"
   ]
  },
  {
   "cell_type": "code",
   "execution_count": 11,
   "id": "1d3de9df-82bd-4fe5-bc3d-b4efd5b0a877",
   "metadata": {},
   "outputs": [],
   "source": [
    "model.add(Conv2D(filters=64,kernel_size=3,padding='same',activation='relu'))\n",
    "model.add(Conv2D(filters=64,kernel_size=3,activation='relu'))\n",
    "model.add(MaxPool2D(pool_size=2,strides=2,))"
   ]
  },
  {
   "cell_type": "code",
   "execution_count": 12,
   "id": "c6d71f44-c2a3-47d0-b737-95c112180e0e",
   "metadata": {},
   "outputs": [],
   "source": [
    "model.add(Conv2D(filters=128,kernel_size=3,padding='same',activation='relu'))\n",
    "model.add(Conv2D(filters=128,kernel_size=3,activation='relu'))\n",
    "model.add(MaxPool2D(pool_size=2,strides=2,))"
   ]
  },
  {
   "cell_type": "code",
   "execution_count": 13,
   "id": "a4d6be91-ffe7-40f6-a1a5-4e843fb50761",
   "metadata": {},
   "outputs": [],
   "source": [
    "model.add(Conv2D(filters=256,kernel_size=3,padding='same',activation='relu'))\n",
    "model.add(Conv2D(filters=256,kernel_size=3,activation='relu'))\n",
    "model.add(MaxPool2D(pool_size=2,strides=2,))"
   ]
  },
  {
   "cell_type": "code",
   "execution_count": 14,
   "id": "f4953ede-cf81-4edd-8ac5-4f63586ace74",
   "metadata": {},
   "outputs": [],
   "source": [
    "model.add(Dropout(0.25)) #to avoid overfitting"
   ]
  },
  {
   "cell_type": "code",
   "execution_count": 15,
   "id": "90b6b601-c125-4f37-9a1d-c6a7315b1121",
   "metadata": {},
   "outputs": [],
   "source": [
    "model.add(Flatten())"
   ]
  },
  {
   "cell_type": "code",
   "execution_count": 16,
   "id": "23572199-5309-4f00-93fe-6bc58b931ae7",
   "metadata": {},
   "outputs": [],
   "source": [
    "model.add(Dense(units=1024,activation='relu'))"
   ]
  },
  {
   "cell_type": "code",
   "execution_count": 17,
   "id": "85d5670e-092a-4839-b1a6-9147bcb37f9d",
   "metadata": {},
   "outputs": [],
   "source": [
    "model.add(Dropout(0.5))"
   ]
  },
  {
   "cell_type": "code",
   "execution_count": 18,
   "id": "029ad810-c198-4b0e-a935-e7c13bd79b9c",
   "metadata": {},
   "outputs": [],
   "source": [
    "#output Layer\n",
    "model.add(Dense(units=10,activation='softmax'))"
   ]
  },
  {
   "cell_type": "markdown",
   "id": "b373dc43-6c8b-4e8a-99d5-0aca3552b42a",
   "metadata": {},
   "source": [
    "COMPILING MODEL"
   ]
  },
  {
   "cell_type": "code",
   "execution_count": 19,
   "id": "a5f2adbf-5305-4e0d-91fb-039a27415344",
   "metadata": {},
   "outputs": [],
   "source": [
    "model.compile(optimizer=tf.keras.optimizers.Adam(\n",
    "    learning_rate=0.0001), loss='categorical_crossentropy', metrics=['accuracy'])"
   ]
  },
  {
   "cell_type": "code",
   "execution_count": 20,
   "id": "64f15354-2fec-4165-b437-469627d6bb23",
   "metadata": {},
   "outputs": [
    {
     "data": {
      "text/html": [
       "<pre style=\"white-space:pre;overflow-x:auto;line-height:normal;font-family:Menlo,'DejaVu Sans Mono',consolas,'Courier New',monospace\"><span style=\"font-weight: bold\">Model: \"sequential\"</span>\n",
       "</pre>\n"
      ],
      "text/plain": [
       "\u001b[1mModel: \"sequential\"\u001b[0m\n"
      ]
     },
     "metadata": {},
     "output_type": "display_data"
    },
    {
     "data": {
      "text/html": [
       "<pre style=\"white-space:pre;overflow-x:auto;line-height:normal;font-family:Menlo,'DejaVu Sans Mono',consolas,'Courier New',monospace\">┏━━━━━━━━━━━━━━━━━━━━━━━━━━━━━━━━━┳━━━━━━━━━━━━━━━━━━━━━━━━┳━━━━━━━━━━━━━━━┓\n",
       "┃<span style=\"font-weight: bold\"> Layer (type)                    </span>┃<span style=\"font-weight: bold\"> Output Shape           </span>┃<span style=\"font-weight: bold\">       Param # </span>┃\n",
       "┡━━━━━━━━━━━━━━━━━━━━━━━━━━━━━━━━━╇━━━━━━━━━━━━━━━━━━━━━━━━╇━━━━━━━━━━━━━━━┩\n",
       "│ conv2d (<span style=\"color: #0087ff; text-decoration-color: #0087ff\">Conv2D</span>)                 │ (<span style=\"color: #00d7ff; text-decoration-color: #00d7ff\">None</span>, <span style=\"color: #00af00; text-decoration-color: #00af00\">256</span>, <span style=\"color: #00af00; text-decoration-color: #00af00\">256</span>, <span style=\"color: #00af00; text-decoration-color: #00af00\">32</span>)   │           <span style=\"color: #00af00; text-decoration-color: #00af00\">896</span> │\n",
       "├─────────────────────────────────┼────────────────────────┼───────────────┤\n",
       "│ conv2d_1 (<span style=\"color: #0087ff; text-decoration-color: #0087ff\">Conv2D</span>)               │ (<span style=\"color: #00d7ff; text-decoration-color: #00d7ff\">None</span>, <span style=\"color: #00af00; text-decoration-color: #00af00\">254</span>, <span style=\"color: #00af00; text-decoration-color: #00af00\">254</span>, <span style=\"color: #00af00; text-decoration-color: #00af00\">32</span>)   │         <span style=\"color: #00af00; text-decoration-color: #00af00\">9,248</span> │\n",
       "├─────────────────────────────────┼────────────────────────┼───────────────┤\n",
       "│ max_pooling2d (<span style=\"color: #0087ff; text-decoration-color: #0087ff\">MaxPooling2D</span>)    │ (<span style=\"color: #00d7ff; text-decoration-color: #00d7ff\">None</span>, <span style=\"color: #00af00; text-decoration-color: #00af00\">127</span>, <span style=\"color: #00af00; text-decoration-color: #00af00\">127</span>, <span style=\"color: #00af00; text-decoration-color: #00af00\">32</span>)   │             <span style=\"color: #00af00; text-decoration-color: #00af00\">0</span> │\n",
       "├─────────────────────────────────┼────────────────────────┼───────────────┤\n",
       "│ conv2d_2 (<span style=\"color: #0087ff; text-decoration-color: #0087ff\">Conv2D</span>)               │ (<span style=\"color: #00d7ff; text-decoration-color: #00d7ff\">None</span>, <span style=\"color: #00af00; text-decoration-color: #00af00\">127</span>, <span style=\"color: #00af00; text-decoration-color: #00af00\">127</span>, <span style=\"color: #00af00; text-decoration-color: #00af00\">64</span>)   │        <span style=\"color: #00af00; text-decoration-color: #00af00\">18,496</span> │\n",
       "├─────────────────────────────────┼────────────────────────┼───────────────┤\n",
       "│ conv2d_3 (<span style=\"color: #0087ff; text-decoration-color: #0087ff\">Conv2D</span>)               │ (<span style=\"color: #00d7ff; text-decoration-color: #00d7ff\">None</span>, <span style=\"color: #00af00; text-decoration-color: #00af00\">125</span>, <span style=\"color: #00af00; text-decoration-color: #00af00\">125</span>, <span style=\"color: #00af00; text-decoration-color: #00af00\">64</span>)   │        <span style=\"color: #00af00; text-decoration-color: #00af00\">36,928</span> │\n",
       "├─────────────────────────────────┼────────────────────────┼───────────────┤\n",
       "│ max_pooling2d_1 (<span style=\"color: #0087ff; text-decoration-color: #0087ff\">MaxPooling2D</span>)  │ (<span style=\"color: #00d7ff; text-decoration-color: #00d7ff\">None</span>, <span style=\"color: #00af00; text-decoration-color: #00af00\">62</span>, <span style=\"color: #00af00; text-decoration-color: #00af00\">62</span>, <span style=\"color: #00af00; text-decoration-color: #00af00\">64</span>)     │             <span style=\"color: #00af00; text-decoration-color: #00af00\">0</span> │\n",
       "├─────────────────────────────────┼────────────────────────┼───────────────┤\n",
       "│ conv2d_4 (<span style=\"color: #0087ff; text-decoration-color: #0087ff\">Conv2D</span>)               │ (<span style=\"color: #00d7ff; text-decoration-color: #00d7ff\">None</span>, <span style=\"color: #00af00; text-decoration-color: #00af00\">62</span>, <span style=\"color: #00af00; text-decoration-color: #00af00\">62</span>, <span style=\"color: #00af00; text-decoration-color: #00af00\">64</span>)     │        <span style=\"color: #00af00; text-decoration-color: #00af00\">36,928</span> │\n",
       "├─────────────────────────────────┼────────────────────────┼───────────────┤\n",
       "│ conv2d_5 (<span style=\"color: #0087ff; text-decoration-color: #0087ff\">Conv2D</span>)               │ (<span style=\"color: #00d7ff; text-decoration-color: #00d7ff\">None</span>, <span style=\"color: #00af00; text-decoration-color: #00af00\">60</span>, <span style=\"color: #00af00; text-decoration-color: #00af00\">60</span>, <span style=\"color: #00af00; text-decoration-color: #00af00\">64</span>)     │        <span style=\"color: #00af00; text-decoration-color: #00af00\">36,928</span> │\n",
       "├─────────────────────────────────┼────────────────────────┼───────────────┤\n",
       "│ max_pooling2d_2 (<span style=\"color: #0087ff; text-decoration-color: #0087ff\">MaxPooling2D</span>)  │ (<span style=\"color: #00d7ff; text-decoration-color: #00d7ff\">None</span>, <span style=\"color: #00af00; text-decoration-color: #00af00\">30</span>, <span style=\"color: #00af00; text-decoration-color: #00af00\">30</span>, <span style=\"color: #00af00; text-decoration-color: #00af00\">64</span>)     │             <span style=\"color: #00af00; text-decoration-color: #00af00\">0</span> │\n",
       "├─────────────────────────────────┼────────────────────────┼───────────────┤\n",
       "│ conv2d_6 (<span style=\"color: #0087ff; text-decoration-color: #0087ff\">Conv2D</span>)               │ (<span style=\"color: #00d7ff; text-decoration-color: #00d7ff\">None</span>, <span style=\"color: #00af00; text-decoration-color: #00af00\">30</span>, <span style=\"color: #00af00; text-decoration-color: #00af00\">30</span>, <span style=\"color: #00af00; text-decoration-color: #00af00\">128</span>)    │        <span style=\"color: #00af00; text-decoration-color: #00af00\">73,856</span> │\n",
       "├─────────────────────────────────┼────────────────────────┼───────────────┤\n",
       "│ conv2d_7 (<span style=\"color: #0087ff; text-decoration-color: #0087ff\">Conv2D</span>)               │ (<span style=\"color: #00d7ff; text-decoration-color: #00d7ff\">None</span>, <span style=\"color: #00af00; text-decoration-color: #00af00\">28</span>, <span style=\"color: #00af00; text-decoration-color: #00af00\">28</span>, <span style=\"color: #00af00; text-decoration-color: #00af00\">128</span>)    │       <span style=\"color: #00af00; text-decoration-color: #00af00\">147,584</span> │\n",
       "├─────────────────────────────────┼────────────────────────┼───────────────┤\n",
       "│ max_pooling2d_3 (<span style=\"color: #0087ff; text-decoration-color: #0087ff\">MaxPooling2D</span>)  │ (<span style=\"color: #00d7ff; text-decoration-color: #00d7ff\">None</span>, <span style=\"color: #00af00; text-decoration-color: #00af00\">14</span>, <span style=\"color: #00af00; text-decoration-color: #00af00\">14</span>, <span style=\"color: #00af00; text-decoration-color: #00af00\">128</span>)    │             <span style=\"color: #00af00; text-decoration-color: #00af00\">0</span> │\n",
       "├─────────────────────────────────┼────────────────────────┼───────────────┤\n",
       "│ conv2d_8 (<span style=\"color: #0087ff; text-decoration-color: #0087ff\">Conv2D</span>)               │ (<span style=\"color: #00d7ff; text-decoration-color: #00d7ff\">None</span>, <span style=\"color: #00af00; text-decoration-color: #00af00\">14</span>, <span style=\"color: #00af00; text-decoration-color: #00af00\">14</span>, <span style=\"color: #00af00; text-decoration-color: #00af00\">256</span>)    │       <span style=\"color: #00af00; text-decoration-color: #00af00\">295,168</span> │\n",
       "├─────────────────────────────────┼────────────────────────┼───────────────┤\n",
       "│ conv2d_9 (<span style=\"color: #0087ff; text-decoration-color: #0087ff\">Conv2D</span>)               │ (<span style=\"color: #00d7ff; text-decoration-color: #00d7ff\">None</span>, <span style=\"color: #00af00; text-decoration-color: #00af00\">12</span>, <span style=\"color: #00af00; text-decoration-color: #00af00\">12</span>, <span style=\"color: #00af00; text-decoration-color: #00af00\">256</span>)    │       <span style=\"color: #00af00; text-decoration-color: #00af00\">590,080</span> │\n",
       "├─────────────────────────────────┼────────────────────────┼───────────────┤\n",
       "│ max_pooling2d_4 (<span style=\"color: #0087ff; text-decoration-color: #0087ff\">MaxPooling2D</span>)  │ (<span style=\"color: #00d7ff; text-decoration-color: #00d7ff\">None</span>, <span style=\"color: #00af00; text-decoration-color: #00af00\">6</span>, <span style=\"color: #00af00; text-decoration-color: #00af00\">6</span>, <span style=\"color: #00af00; text-decoration-color: #00af00\">256</span>)      │             <span style=\"color: #00af00; text-decoration-color: #00af00\">0</span> │\n",
       "├─────────────────────────────────┼────────────────────────┼───────────────┤\n",
       "│ dropout (<span style=\"color: #0087ff; text-decoration-color: #0087ff\">Dropout</span>)               │ (<span style=\"color: #00d7ff; text-decoration-color: #00d7ff\">None</span>, <span style=\"color: #00af00; text-decoration-color: #00af00\">6</span>, <span style=\"color: #00af00; text-decoration-color: #00af00\">6</span>, <span style=\"color: #00af00; text-decoration-color: #00af00\">256</span>)      │             <span style=\"color: #00af00; text-decoration-color: #00af00\">0</span> │\n",
       "├─────────────────────────────────┼────────────────────────┼───────────────┤\n",
       "│ flatten (<span style=\"color: #0087ff; text-decoration-color: #0087ff\">Flatten</span>)               │ (<span style=\"color: #00d7ff; text-decoration-color: #00d7ff\">None</span>, <span style=\"color: #00af00; text-decoration-color: #00af00\">9216</span>)           │             <span style=\"color: #00af00; text-decoration-color: #00af00\">0</span> │\n",
       "├─────────────────────────────────┼────────────────────────┼───────────────┤\n",
       "│ dense (<span style=\"color: #0087ff; text-decoration-color: #0087ff\">Dense</span>)                   │ (<span style=\"color: #00d7ff; text-decoration-color: #00d7ff\">None</span>, <span style=\"color: #00af00; text-decoration-color: #00af00\">1024</span>)           │     <span style=\"color: #00af00; text-decoration-color: #00af00\">9,438,208</span> │\n",
       "├─────────────────────────────────┼────────────────────────┼───────────────┤\n",
       "│ dropout_1 (<span style=\"color: #0087ff; text-decoration-color: #0087ff\">Dropout</span>)             │ (<span style=\"color: #00d7ff; text-decoration-color: #00d7ff\">None</span>, <span style=\"color: #00af00; text-decoration-color: #00af00\">1024</span>)           │             <span style=\"color: #00af00; text-decoration-color: #00af00\">0</span> │\n",
       "├─────────────────────────────────┼────────────────────────┼───────────────┤\n",
       "│ dense_1 (<span style=\"color: #0087ff; text-decoration-color: #0087ff\">Dense</span>)                 │ (<span style=\"color: #00d7ff; text-decoration-color: #00d7ff\">None</span>, <span style=\"color: #00af00; text-decoration-color: #00af00\">10</span>)             │        <span style=\"color: #00af00; text-decoration-color: #00af00\">10,250</span> │\n",
       "└─────────────────────────────────┴────────────────────────┴───────────────┘\n",
       "</pre>\n"
      ],
      "text/plain": [
       "┏━━━━━━━━━━━━━━━━━━━━━━━━━━━━━━━━━┳━━━━━━━━━━━━━━━━━━━━━━━━┳━━━━━━━━━━━━━━━┓\n",
       "┃\u001b[1m \u001b[0m\u001b[1mLayer (type)                   \u001b[0m\u001b[1m \u001b[0m┃\u001b[1m \u001b[0m\u001b[1mOutput Shape          \u001b[0m\u001b[1m \u001b[0m┃\u001b[1m \u001b[0m\u001b[1m      Param #\u001b[0m\u001b[1m \u001b[0m┃\n",
       "┡━━━━━━━━━━━━━━━━━━━━━━━━━━━━━━━━━╇━━━━━━━━━━━━━━━━━━━━━━━━╇━━━━━━━━━━━━━━━┩\n",
       "│ conv2d (\u001b[38;5;33mConv2D\u001b[0m)                 │ (\u001b[38;5;45mNone\u001b[0m, \u001b[38;5;34m256\u001b[0m, \u001b[38;5;34m256\u001b[0m, \u001b[38;5;34m32\u001b[0m)   │           \u001b[38;5;34m896\u001b[0m │\n",
       "├─────────────────────────────────┼────────────────────────┼───────────────┤\n",
       "│ conv2d_1 (\u001b[38;5;33mConv2D\u001b[0m)               │ (\u001b[38;5;45mNone\u001b[0m, \u001b[38;5;34m254\u001b[0m, \u001b[38;5;34m254\u001b[0m, \u001b[38;5;34m32\u001b[0m)   │         \u001b[38;5;34m9,248\u001b[0m │\n",
       "├─────────────────────────────────┼────────────────────────┼───────────────┤\n",
       "│ max_pooling2d (\u001b[38;5;33mMaxPooling2D\u001b[0m)    │ (\u001b[38;5;45mNone\u001b[0m, \u001b[38;5;34m127\u001b[0m, \u001b[38;5;34m127\u001b[0m, \u001b[38;5;34m32\u001b[0m)   │             \u001b[38;5;34m0\u001b[0m │\n",
       "├─────────────────────────────────┼────────────────────────┼───────────────┤\n",
       "│ conv2d_2 (\u001b[38;5;33mConv2D\u001b[0m)               │ (\u001b[38;5;45mNone\u001b[0m, \u001b[38;5;34m127\u001b[0m, \u001b[38;5;34m127\u001b[0m, \u001b[38;5;34m64\u001b[0m)   │        \u001b[38;5;34m18,496\u001b[0m │\n",
       "├─────────────────────────────────┼────────────────────────┼───────────────┤\n",
       "│ conv2d_3 (\u001b[38;5;33mConv2D\u001b[0m)               │ (\u001b[38;5;45mNone\u001b[0m, \u001b[38;5;34m125\u001b[0m, \u001b[38;5;34m125\u001b[0m, \u001b[38;5;34m64\u001b[0m)   │        \u001b[38;5;34m36,928\u001b[0m │\n",
       "├─────────────────────────────────┼────────────────────────┼───────────────┤\n",
       "│ max_pooling2d_1 (\u001b[38;5;33mMaxPooling2D\u001b[0m)  │ (\u001b[38;5;45mNone\u001b[0m, \u001b[38;5;34m62\u001b[0m, \u001b[38;5;34m62\u001b[0m, \u001b[38;5;34m64\u001b[0m)     │             \u001b[38;5;34m0\u001b[0m │\n",
       "├─────────────────────────────────┼────────────────────────┼───────────────┤\n",
       "│ conv2d_4 (\u001b[38;5;33mConv2D\u001b[0m)               │ (\u001b[38;5;45mNone\u001b[0m, \u001b[38;5;34m62\u001b[0m, \u001b[38;5;34m62\u001b[0m, \u001b[38;5;34m64\u001b[0m)     │        \u001b[38;5;34m36,928\u001b[0m │\n",
       "├─────────────────────────────────┼────────────────────────┼───────────────┤\n",
       "│ conv2d_5 (\u001b[38;5;33mConv2D\u001b[0m)               │ (\u001b[38;5;45mNone\u001b[0m, \u001b[38;5;34m60\u001b[0m, \u001b[38;5;34m60\u001b[0m, \u001b[38;5;34m64\u001b[0m)     │        \u001b[38;5;34m36,928\u001b[0m │\n",
       "├─────────────────────────────────┼────────────────────────┼───────────────┤\n",
       "│ max_pooling2d_2 (\u001b[38;5;33mMaxPooling2D\u001b[0m)  │ (\u001b[38;5;45mNone\u001b[0m, \u001b[38;5;34m30\u001b[0m, \u001b[38;5;34m30\u001b[0m, \u001b[38;5;34m64\u001b[0m)     │             \u001b[38;5;34m0\u001b[0m │\n",
       "├─────────────────────────────────┼────────────────────────┼───────────────┤\n",
       "│ conv2d_6 (\u001b[38;5;33mConv2D\u001b[0m)               │ (\u001b[38;5;45mNone\u001b[0m, \u001b[38;5;34m30\u001b[0m, \u001b[38;5;34m30\u001b[0m, \u001b[38;5;34m128\u001b[0m)    │        \u001b[38;5;34m73,856\u001b[0m │\n",
       "├─────────────────────────────────┼────────────────────────┼───────────────┤\n",
       "│ conv2d_7 (\u001b[38;5;33mConv2D\u001b[0m)               │ (\u001b[38;5;45mNone\u001b[0m, \u001b[38;5;34m28\u001b[0m, \u001b[38;5;34m28\u001b[0m, \u001b[38;5;34m128\u001b[0m)    │       \u001b[38;5;34m147,584\u001b[0m │\n",
       "├─────────────────────────────────┼────────────────────────┼───────────────┤\n",
       "│ max_pooling2d_3 (\u001b[38;5;33mMaxPooling2D\u001b[0m)  │ (\u001b[38;5;45mNone\u001b[0m, \u001b[38;5;34m14\u001b[0m, \u001b[38;5;34m14\u001b[0m, \u001b[38;5;34m128\u001b[0m)    │             \u001b[38;5;34m0\u001b[0m │\n",
       "├─────────────────────────────────┼────────────────────────┼───────────────┤\n",
       "│ conv2d_8 (\u001b[38;5;33mConv2D\u001b[0m)               │ (\u001b[38;5;45mNone\u001b[0m, \u001b[38;5;34m14\u001b[0m, \u001b[38;5;34m14\u001b[0m, \u001b[38;5;34m256\u001b[0m)    │       \u001b[38;5;34m295,168\u001b[0m │\n",
       "├─────────────────────────────────┼────────────────────────┼───────────────┤\n",
       "│ conv2d_9 (\u001b[38;5;33mConv2D\u001b[0m)               │ (\u001b[38;5;45mNone\u001b[0m, \u001b[38;5;34m12\u001b[0m, \u001b[38;5;34m12\u001b[0m, \u001b[38;5;34m256\u001b[0m)    │       \u001b[38;5;34m590,080\u001b[0m │\n",
       "├─────────────────────────────────┼────────────────────────┼───────────────┤\n",
       "│ max_pooling2d_4 (\u001b[38;5;33mMaxPooling2D\u001b[0m)  │ (\u001b[38;5;45mNone\u001b[0m, \u001b[38;5;34m6\u001b[0m, \u001b[38;5;34m6\u001b[0m, \u001b[38;5;34m256\u001b[0m)      │             \u001b[38;5;34m0\u001b[0m │\n",
       "├─────────────────────────────────┼────────────────────────┼───────────────┤\n",
       "│ dropout (\u001b[38;5;33mDropout\u001b[0m)               │ (\u001b[38;5;45mNone\u001b[0m, \u001b[38;5;34m6\u001b[0m, \u001b[38;5;34m6\u001b[0m, \u001b[38;5;34m256\u001b[0m)      │             \u001b[38;5;34m0\u001b[0m │\n",
       "├─────────────────────────────────┼────────────────────────┼───────────────┤\n",
       "│ flatten (\u001b[38;5;33mFlatten\u001b[0m)               │ (\u001b[38;5;45mNone\u001b[0m, \u001b[38;5;34m9216\u001b[0m)           │             \u001b[38;5;34m0\u001b[0m │\n",
       "├─────────────────────────────────┼────────────────────────┼───────────────┤\n",
       "│ dense (\u001b[38;5;33mDense\u001b[0m)                   │ (\u001b[38;5;45mNone\u001b[0m, \u001b[38;5;34m1024\u001b[0m)           │     \u001b[38;5;34m9,438,208\u001b[0m │\n",
       "├─────────────────────────────────┼────────────────────────┼───────────────┤\n",
       "│ dropout_1 (\u001b[38;5;33mDropout\u001b[0m)             │ (\u001b[38;5;45mNone\u001b[0m, \u001b[38;5;34m1024\u001b[0m)           │             \u001b[38;5;34m0\u001b[0m │\n",
       "├─────────────────────────────────┼────────────────────────┼───────────────┤\n",
       "│ dense_1 (\u001b[38;5;33mDense\u001b[0m)                 │ (\u001b[38;5;45mNone\u001b[0m, \u001b[38;5;34m10\u001b[0m)             │        \u001b[38;5;34m10,250\u001b[0m │\n",
       "└─────────────────────────────────┴────────────────────────┴───────────────┘\n"
      ]
     },
     "metadata": {},
     "output_type": "display_data"
    },
    {
     "data": {
      "text/html": [
       "<pre style=\"white-space:pre;overflow-x:auto;line-height:normal;font-family:Menlo,'DejaVu Sans Mono',consolas,'Courier New',monospace\"><span style=\"font-weight: bold\"> Total params: </span><span style=\"color: #00af00; text-decoration-color: #00af00\">10,694,570</span> (40.80 MB)\n",
       "</pre>\n"
      ],
      "text/plain": [
       "\u001b[1m Total params: \u001b[0m\u001b[38;5;34m10,694,570\u001b[0m (40.80 MB)\n"
      ]
     },
     "metadata": {},
     "output_type": "display_data"
    },
    {
     "data": {
      "text/html": [
       "<pre style=\"white-space:pre;overflow-x:auto;line-height:normal;font-family:Menlo,'DejaVu Sans Mono',consolas,'Courier New',monospace\"><span style=\"font-weight: bold\"> Trainable params: </span><span style=\"color: #00af00; text-decoration-color: #00af00\">10,694,570</span> (40.80 MB)\n",
       "</pre>\n"
      ],
      "text/plain": [
       "\u001b[1m Trainable params: \u001b[0m\u001b[38;5;34m10,694,570\u001b[0m (40.80 MB)\n"
      ]
     },
     "metadata": {},
     "output_type": "display_data"
    },
    {
     "data": {
      "text/html": [
       "<pre style=\"white-space:pre;overflow-x:auto;line-height:normal;font-family:Menlo,'DejaVu Sans Mono',consolas,'Courier New',monospace\"><span style=\"font-weight: bold\"> Non-trainable params: </span><span style=\"color: #00af00; text-decoration-color: #00af00\">0</span> (0.00 B)\n",
       "</pre>\n"
      ],
      "text/plain": [
       "\u001b[1m Non-trainable params: \u001b[0m\u001b[38;5;34m0\u001b[0m (0.00 B)\n"
      ]
     },
     "metadata": {},
     "output_type": "display_data"
    }
   ],
   "source": [
    "model.summary()"
   ]
  },
  {
   "cell_type": "markdown",
   "id": "ec105f01-e2be-4f3a-b3de-1f8a50246573",
   "metadata": {},
   "source": [
    "### model training"
   ]
  },
  {
   "cell_type": "code",
   "execution_count": 21,
   "id": "f7455278-095c-47f8-b604-9a7b4b88a2dd",
   "metadata": {},
   "outputs": [
    {
     "name": "stdout",
     "output_type": "stream",
     "text": [
      "Epoch 1/15\n",
      "\u001b[1m404/404\u001b[0m \u001b[32m━━━━━━━━━━━━━━━━━━━━\u001b[0m\u001b[37m\u001b[0m \u001b[1m1495s\u001b[0m 4s/step - accuracy: 0.3630 - loss: 1.9153 - val_accuracy: 0.7276 - val_loss: 0.7531\n",
      "Epoch 2/15\n",
      "\u001b[1m404/404\u001b[0m \u001b[32m━━━━━━━━━━━━━━━━━━━━\u001b[0m\u001b[37m\u001b[0m \u001b[1m1422s\u001b[0m 4s/step - accuracy: 0.7246 - loss: 0.7809 - val_accuracy: 0.7925 - val_loss: 0.5580\n",
      "Epoch 3/15\n",
      "\u001b[1m404/404\u001b[0m \u001b[32m━━━━━━━━━━━━━━━━━━━━\u001b[0m\u001b[37m\u001b[0m \u001b[1m1398s\u001b[0m 3s/step - accuracy: 0.7891 - loss: 0.6118 - val_accuracy: 0.8298 - val_loss: 0.4782\n",
      "Epoch 4/15\n",
      "\u001b[1m404/404\u001b[0m \u001b[32m━━━━━━━━━━━━━━━━━━━━\u001b[0m\u001b[37m\u001b[0m \u001b[1m1407s\u001b[0m 3s/step - accuracy: 0.8298 - loss: 0.4901 - val_accuracy: 0.8798 - val_loss: 0.3308\n",
      "Epoch 5/15\n",
      "\u001b[1m404/404\u001b[0m \u001b[32m━━━━━━━━━━━━━━━━━━━━\u001b[0m\u001b[37m\u001b[0m \u001b[1m1398s\u001b[0m 3s/step - accuracy: 0.8716 - loss: 0.3740 - val_accuracy: 0.8819 - val_loss: 0.3197\n",
      "Epoch 6/15\n",
      "\u001b[1m404/404\u001b[0m \u001b[32m━━━━━━━━━━━━━━━━━━━━\u001b[0m\u001b[37m\u001b[0m \u001b[1m1396s\u001b[0m 3s/step - accuracy: 0.8987 - loss: 0.2953 - val_accuracy: 0.8167 - val_loss: 0.5398\n",
      "Epoch 7/15\n",
      "\u001b[1m404/404\u001b[0m \u001b[32m━━━━━━━━━━━━━━━━━━━━\u001b[0m\u001b[37m\u001b[0m \u001b[1m1411s\u001b[0m 3s/step - accuracy: 0.9032 - loss: 0.2683 - val_accuracy: 0.9076 - val_loss: 0.2699\n",
      "Epoch 8/15\n",
      "\u001b[1m404/404\u001b[0m \u001b[32m━━━━━━━━━━━━━━━━━━━━\u001b[0m\u001b[37m\u001b[0m \u001b[1m1436s\u001b[0m 4s/step - accuracy: 0.9351 - loss: 0.1837 - val_accuracy: 0.9138 - val_loss: 0.2663\n",
      "Epoch 9/15\n",
      "\u001b[1m404/404\u001b[0m \u001b[32m━━━━━━━━━━━━━━━━━━━━\u001b[0m\u001b[37m\u001b[0m \u001b[1m1418s\u001b[0m 4s/step - accuracy: 0.9303 - loss: 0.2074 - val_accuracy: 0.8888 - val_loss: 0.3409\n",
      "Epoch 10/15\n",
      "\u001b[1m404/404\u001b[0m \u001b[32m━━━━━━━━━━━━━━━━━━━━\u001b[0m\u001b[37m\u001b[0m \u001b[1m1416s\u001b[0m 4s/step - accuracy: 0.9430 - loss: 0.1651 - val_accuracy: 0.9004 - val_loss: 0.3110\n",
      "Epoch 11/15\n",
      "\u001b[1m404/404\u001b[0m \u001b[32m━━━━━━━━━━━━━━━━━━━━\u001b[0m\u001b[37m\u001b[0m \u001b[1m1440s\u001b[0m 4s/step - accuracy: 0.9497 - loss: 0.1467 - val_accuracy: 0.9076 - val_loss: 0.3004\n",
      "Epoch 12/15\n",
      "\u001b[1m404/404\u001b[0m \u001b[32m━━━━━━━━━━━━━━━━━━━━\u001b[0m\u001b[37m\u001b[0m \u001b[1m1430s\u001b[0m 3s/step - accuracy: 0.9678 - loss: 0.0970 - val_accuracy: 0.9308 - val_loss: 0.2224\n",
      "Epoch 13/15\n",
      "\u001b[1m404/404\u001b[0m \u001b[32m━━━━━━━━━━━━━━━━━━━━\u001b[0m\u001b[37m\u001b[0m \u001b[1m1605s\u001b[0m 4s/step - accuracy: 0.9650 - loss: 0.1050 - val_accuracy: 0.9134 - val_loss: 0.3314\n",
      "Epoch 14/15\n",
      "\u001b[1m404/404\u001b[0m \u001b[32m━━━━━━━━━━━━━━━━━━━━\u001b[0m\u001b[37m\u001b[0m \u001b[1m1459s\u001b[0m 4s/step - accuracy: 0.9719 - loss: 0.0878 - val_accuracy: 0.9352 - val_loss: 0.2380\n",
      "Epoch 15/15\n",
      "\u001b[1m404/404\u001b[0m \u001b[32m━━━━━━━━━━━━━━━━━━━━\u001b[0m\u001b[37m\u001b[0m \u001b[1m1432s\u001b[0m 4s/step - accuracy: 0.9702 - loss: 0.0845 - val_accuracy: 0.9290 - val_loss: 0.2378\n"
     ]
    }
   ],
   "source": [
    "training_history = model.fit(x=training_set,validation_data=validation_set,epochs=15)"
   ]
  },
  {
   "cell_type": "markdown",
   "id": "9a8df445-f43e-4635-947c-6dd6ecace599",
   "metadata": {},
   "source": [
    "MODEL EVALUATION"
   ]
  },
  {
   "cell_type": "code",
   "execution_count": 22,
   "id": "0c9b007b-6bc1-440b-b170-403e8103ce5d",
   "metadata": {},
   "outputs": [
    {
     "name": "stdout",
     "output_type": "stream",
     "text": [
      "\u001b[1m404/404\u001b[0m \u001b[32m━━━━━━━━━━━━━━━━━━━━\u001b[0m\u001b[37m\u001b[0m \u001b[1m272s\u001b[0m 672ms/step - accuracy: 0.9848 - loss: 0.0520\n"
     ]
    }
   ],
   "source": [
    "#model evaluation on tarining set\n",
    "train_loss,train_acc = model.evaluate(training_set)"
   ]
  },
  {
   "cell_type": "code",
   "execution_count": 23,
   "id": "520f46df-3c0d-4148-a39a-c78904bf4f10",
   "metadata": {},
   "outputs": [
    {
     "name": "stdout",
     "output_type": "stream",
     "text": [
      "0.05321937054395676 0.9849705696105957\n"
     ]
    }
   ],
   "source": [
    "print(train_loss,train_acc)"
   ]
  },
  {
   "cell_type": "code",
   "execution_count": 24,
   "id": "b8feb562-6d77-481f-9a61-bd0001255188",
   "metadata": {},
   "outputs": [
    {
     "name": "stdout",
     "output_type": "stream",
     "text": [
      "\u001b[1m87/87\u001b[0m \u001b[32m━━━━━━━━━━━━━━━━━━━━\u001b[0m\u001b[37m\u001b[0m \u001b[1m57s\u001b[0m 659ms/step - accuracy: 0.9306 - loss: 0.2312\n"
     ]
    }
   ],
   "source": [
    "#model on validation set\n",
    "val_loss,val_acc = model.evaluate(validation_set)"
   ]
  },
  {
   "cell_type": "code",
   "execution_count": 25,
   "id": "6cb6f65d-5896-40ce-ad69-59f340167e39",
   "metadata": {},
   "outputs": [
    {
     "name": "stdout",
     "output_type": "stream",
     "text": [
      "0.2377561628818512 0.9290112257003784\n"
     ]
    }
   ],
   "source": [
    "print(val_loss,val_acc)"
   ]
  },
  {
   "cell_type": "markdown",
   "id": "ecea8e8e-d7f8-4904-892a-bcccae8e7ecb",
   "metadata": {},
   "source": [
    "#SAVING MODEL"
   ]
  },
  {
   "cell_type": "code",
   "execution_count": 26,
   "id": "86a2a8db-25ad-4ebf-8028-0f565c37d7c7",
   "metadata": {},
   "outputs": [],
   "source": [
    "model.save(\"trained_model.keras\")"
   ]
  },
  {
   "cell_type": "code",
   "execution_count": 28,
   "id": "50748a4f-1d1b-4359-9be8-15ae182d79f1",
   "metadata": {},
   "outputs": [
    {
     "name": "stderr",
     "output_type": "stream",
     "text": [
      "WARNING:absl:You are saving your model as an HDF5 file via `model.save()` or `keras.saving.save_model(model)`. This file format is considered legacy. We recommend using instead the native Keras format, e.g. `model.save('my_model.keras')` or `keras.saving.save_model(model, 'my_model.keras')`. \n"
     ]
    }
   ],
   "source": [
    "model.save(\"trained_model.h5\")"
   ]
  },
  {
   "cell_type": "code",
   "execution_count": 29,
   "id": "495494aa-b55a-4e3b-8a8f-1bb084394bb8",
   "metadata": {},
   "outputs": [],
   "source": [
    "import pickle\n",
    "\n",
    "# Save the model\n",
    "with open(\"model.pkl\", \"wb\") as f:\n",
    "    pickle.dump(model, f)\n"
   ]
  },
  {
   "cell_type": "code",
   "execution_count": null,
   "id": "3ebe80fc-e94d-42dc-bdb7-28274dd83623",
   "metadata": {},
   "outputs": [],
   "source": []
  },
  {
   "cell_type": "code",
   "execution_count": 30,
   "id": "13a75b8f-52c0-42a6-bd4d-f35d55270b65",
   "metadata": {},
   "outputs": [
    {
     "data": {
      "text/plain": [
       "{'accuracy': [0.5209947228431702,\n",
       "  0.7455841302871704,\n",
       "  0.8067864775657654,\n",
       "  0.8437403440475464,\n",
       "  0.8817787170410156,\n",
       "  0.8992097973823547,\n",
       "  0.9181128144264221,\n",
       "  0.9379454851150513,\n",
       "  0.9108304977416992,\n",
       "  0.949798583984375,\n",
       "  0.9536721706390381,\n",
       "  0.9663774371147156,\n",
       "  0.9676944613456726,\n",
       "  0.9706383347511292,\n",
       "  0.9750542044639587],\n",
       " 'loss': [1.3761484622955322,\n",
       "  0.7192806005477905,\n",
       "  0.5588580965995789,\n",
       "  0.44617924094200134,\n",
       "  0.34090912342071533,\n",
       "  0.2886750400066376,\n",
       "  0.23059940338134766,\n",
       "  0.17287996411323547,\n",
       "  0.2680085003376007,\n",
       "  0.14303351938724518,\n",
       "  0.1383720189332962,\n",
       "  0.10198570787906647,\n",
       "  0.09378639608621597,\n",
       "  0.09069617837667465,\n",
       "  0.07400564104318619],\n",
       " 'val_accuracy': [0.7276349067687988,\n",
       "  0.7924665212631226,\n",
       "  0.8297718167304993,\n",
       "  0.8797537088394165,\n",
       "  0.8819268345832825,\n",
       "  0.8167330622673035,\n",
       "  0.9076421856880188,\n",
       "  0.9137993454933167,\n",
       "  0.8888084292411804,\n",
       "  0.9003984332084656,\n",
       "  0.9076421856880188,\n",
       "  0.9308221936225891,\n",
       "  0.9134371876716614,\n",
       "  0.935168445110321,\n",
       "  0.9290112257003784],\n",
       " 'val_loss': [0.7530549764633179,\n",
       "  0.5579790472984314,\n",
       "  0.4782455861568451,\n",
       "  0.3308289647102356,\n",
       "  0.3196859061717987,\n",
       "  0.5398291945457458,\n",
       "  0.2699141204357147,\n",
       "  0.26634103059768677,\n",
       "  0.3408583700656891,\n",
       "  0.3110070526599884,\n",
       "  0.3003709614276886,\n",
       "  0.22241808474063873,\n",
       "  0.3314124643802643,\n",
       "  0.23802900314331055,\n",
       "  0.2377561330795288]}"
      ]
     },
     "execution_count": 30,
     "metadata": {},
     "output_type": "execute_result"
    }
   ],
   "source": [
    "training_history.history"
   ]
  },
  {
   "cell_type": "code",
   "execution_count": 31,
   "id": "09a6a366-df6c-4a38-a78e-41f41619b1f5",
   "metadata": {},
   "outputs": [],
   "source": [
    "# recording history in json\n",
    "import json\n",
    "with open(\"training_hist.json\",\"w\") as f:\n",
    "    json.dump(training_history.history,f)"
   ]
  },
  {
   "cell_type": "code",
   "execution_count": 32,
   "id": "295f1d65-38bf-4a8d-91d1-f8e42c07069d",
   "metadata": {},
   "outputs": [
    {
     "data": {
      "text/plain": [
       "[0.7276349067687988,\n",
       " 0.7924665212631226,\n",
       " 0.8297718167304993,\n",
       " 0.8797537088394165,\n",
       " 0.8819268345832825,\n",
       " 0.8167330622673035,\n",
       " 0.9076421856880188,\n",
       " 0.9137993454933167,\n",
       " 0.8888084292411804,\n",
       " 0.9003984332084656,\n",
       " 0.9076421856880188,\n",
       " 0.9308221936225891,\n",
       " 0.9134371876716614,\n",
       " 0.935168445110321,\n",
       " 0.9290112257003784]"
      ]
     },
     "execution_count": 32,
     "metadata": {},
     "output_type": "execute_result"
    }
   ],
   "source": [
    "training_history.history['val_accuracy']"
   ]
  },
  {
   "cell_type": "markdown",
   "id": "9d9eabd1-f6d1-4408-a67e-5e4d9e9235d9",
   "metadata": {},
   "source": [
    "ACCURACY VISUALIZATION"
   ]
  },
  {
   "cell_type": "code",
   "execution_count": 33,
   "id": "27267de7-eeb4-4b54-b923-2761eaf9c5a8",
   "metadata": {},
   "outputs": [
    {
     "data": {
      "image/png": "[encoded data removed]",
      "text/plain": [
       "<Figure size 640x480 with 1 Axes>"
      ]
     },
     "metadata": {},
     "output_type": "display_data"
    }
   ],
   "source": [
    "epochs =[i for i in range(1,16)]\n",
    "plt.plot(epochs,training_history.history['accuracy'],color='red',label='Training_accuracy')\n",
    "plt.plot(epochs,training_history.history['val_accuracy'],color='blue',label='validation_accuracy')\n",
    "plt.xlabel(\"no. of epochs\")\n",
    "plt.ylabel(\"Accuracy Result\")\n",
    "plt.title(\"visualization of Accuracy Result\")\n",
    "plt.legend()\n",
    "plt.show()"
   ]
  },
  {
   "cell_type": "markdown",
   "id": "0ab98a82-2521-44c9-9df9-ba1ac2cb3c18",
   "metadata": {},
   "source": [
    "SOME OTHER METRICS FOR MODEL EVALUATION"
   ]
  },
  {
   "cell_type": "code",
   "execution_count": 34,
   "id": "420a676b-1a72-4956-8452-aab032db7a13",
   "metadata": {},
   "outputs": [
    {
     "data": {
      "text/plain": [
       "['bacterial_leaf_blight',\n",
       " 'brown_spot',\n",
       " 'healthy',\n",
       " 'leaf_blast',\n",
       " 'leaf_scald',\n",
       " 'narrow_brown_spot',\n",
       " 'neck_blast',\n",
       " 'rice_hispa',\n",
       " 'sheath_blight',\n",
       " 'tungro']"
      ]
     },
     "execution_count": 34,
     "metadata": {},
     "output_type": "execute_result"
    }
   ],
   "source": [
    "class_name = validation_set.class_names\n",
    "class_name"
   ]
  },
  {
   "cell_type": "code",
   "execution_count": 35,
   "id": "0b8f97f0-886d-4f9a-be56-9a63445b5cc3",
   "metadata": {},
   "outputs": [
    {
     "name": "stdout",
     "output_type": "stream",
     "text": [
      "Found 2761 files belonging to 10 classes.\n"
     ]
    }
   ],
   "source": [
    "test_set= tf.keras.utils.image_dataset_from_directory(\n",
    "    'valid',\n",
    "    labels=\"inferred\",\n",
    "    label_mode=\"int\",\n",
    "    class_names=None,\n",
    "    color_mode=\"rgb\",\n",
    "    batch_size=32,\n",
    "    image_size=(256, 256),\n",
    "    shuffle=False,\n",
    "    seed=None,\n",
    "    validation_split=None,\n",
    "    subset=None,\n",
    "    interpolation=\"bilinear\",\n",
    "    follow_links=False,\n",
    "    crop_to_aspect_ratio=False,\n",
    " \n",
    "\n",
    ")"
   ]
  },
  {
   "cell_type": "code",
   "execution_count": 36,
   "id": "8721158b-de38-47f7-a202-5e5b912fc97a",
   "metadata": {},
   "outputs": [
    {
     "name": "stdout",
     "output_type": "stream",
     "text": [
      "\u001b[1m87/87\u001b[0m \u001b[32m━━━━━━━━━━━━━━━━━━━━\u001b[0m\u001b[37m\u001b[0m \u001b[1m52s\u001b[0m 597ms/step\n"
     ]
    },
    {
     "data": {
      "text/plain": [
       "(array([[9.9887639e-01, 2.0372443e-05, 6.3924293e-05, ..., 1.5754698e-06,\n",
       "         9.7041210e-04, 1.3114067e-07],\n",
       "        [9.9902666e-01, 1.6981586e-06, 8.7838743e-07, ..., 2.6952745e-05,\n",
       "         7.6612266e-04, 6.4173866e-05],\n",
       "        [5.6076187e-01, 7.1660405e-10, 1.7280954e-11, ..., 7.0459207e-09,\n",
       "         4.3923795e-01, 4.1144301e-09],\n",
       "        ...,\n",
       "        [4.0372623e-05, 6.4936195e-08, 2.4543738e-07, ..., 3.6896766e-09,\n",
       "         3.0189547e-05, 9.9985635e-01],\n",
       "        [3.6778885e-05, 5.1102569e-07, 8.9708667e-09, ..., 3.6617387e-10,\n",
       "         1.3322311e-05, 9.9994850e-01],\n",
       "        [8.0689297e-06, 2.3280295e-07, 2.4080620e-07, ..., 3.5656683e-04,\n",
       "         8.0818725e-05, 9.9955350e-01]], dtype=float32),\n",
       " (2761, 10))"
      ]
     },
     "execution_count": 36,
     "metadata": {},
     "output_type": "execute_result"
    }
   ],
   "source": [
    "y_pred =model.predict(test_set)\n",
    "y_pred,y_pred.shape"
   ]
  },
  {
   "cell_type": "code",
   "execution_count": 37,
   "id": "78f6aa24-7d09-4830-8378-85164c623f6b",
   "metadata": {},
   "outputs": [],
   "source": [
    "predicted_categories = tf.argmax(y_pred,axis=1)"
   ]
  },
  {
   "cell_type": "code",
   "execution_count": 38,
   "id": "4dfac4ac-8e6c-4924-b6ee-5396d2c3d9dd",
   "metadata": {},
   "outputs": [
    {
     "data": {
      "text/plain": [
       "<tf.Tensor: shape=(2761,), dtype=int64, numpy=array([0, 0, 0, ..., 9, 9, 9])>"
      ]
     },
     "execution_count": 38,
     "metadata": {},
     "output_type": "execute_result"
    }
   ],
   "source": [
    "predicted_categories"
   ]
  },
  {
   "cell_type": "code",
   "execution_count": 39,
   "id": "49de82b8-becf-444a-802f-1b6153ec79de",
   "metadata": {},
   "outputs": [
    {
     "data": {
      "text/plain": [
       "<tf.Tensor: shape=(2761,), dtype=int32, numpy=array([0, 0, 0, ..., 9, 9, 9], dtype=int32)>"
      ]
     },
     "execution_count": 39,
     "metadata": {},
     "output_type": "execute_result"
    }
   ],
   "source": [
    "true_categories = tf.concat([y for x,y in test_set],axis=0)\n",
    "true_categories"
   ]
  },
  {
   "cell_type": "code",
   "execution_count": 40,
   "id": "2a3ad269-0546-436e-88a6-71aab0ca4b3a",
   "metadata": {},
   "outputs": [
    {
     "name": "stdout",
     "output_type": "stream",
     "text": [
      "Shape of true_categories: (2761,)\n",
      "Predicted Categories: tf.Tensor([0 0 0 ... 9 9 9], shape=(2761,), dtype=int64)\n",
      "True Categories: tf.Tensor([0 0 0 ... 9 9 9], shape=(2761,), dtype=int32)\n"
     ]
    }
   ],
   "source": [
    "import tensorflow as tf\n",
    "\n",
    "# Concatenate true labels from the test set\n",
    "true_categories = tf.concat([y for x, y in test_set], axis=0)\n",
    "\n",
    "# Check the shape of true_categories to ensure it is correct\n",
    "print(\"Shape of true_categories:\", true_categories.shape)\n",
    "\n",
    "# Apply tf.argmax based on the shape of true_categories\n",
    "if len(true_categories.shape) == 1:\n",
    "    # If already 1D, no need to apply tf.argmax\n",
    "    y_true = true_categories\n",
    "else:\n",
    "    # If one-hot encoded, apply tf.argmax along the last axis\n",
    "    y_true = tf.argmax(true_categories, axis=-1)\n",
    "\n",
    "# Predict the categories\n",
    "\n",
    "\n",
    "# Print predictions and true labels\n",
    "print(\"Predicted Categories:\", predicted_categories)\n",
    "print(\"True Categories:\", y_true)"
   ]
  },
  {
   "cell_type": "code",
   "execution_count": 41,
   "id": "c587ccf4-e28c-4bf4-b6a6-78d2f44984d4",
   "metadata": {},
   "outputs": [],
   "source": [
    "from sklearn.metrics import classification_report\n",
    "from sklearn.metrics import confusion_matrix"
   ]
  },
  {
   "cell_type": "code",
   "execution_count": 42,
   "id": "4d233e6b-6909-4b33-bb7b-e049120c8386",
   "metadata": {},
   "outputs": [
    {
     "name": "stdout",
     "output_type": "stream",
     "text": [
      "                       precision    recall  f1-score   support\n",
      "\n",
      "bacterial_leaf_blight       1.00      0.99      0.99       263\n",
      "           brown_spot       0.89      0.91      0.90       279\n",
      "              healthy       0.88      0.90      0.89       282\n",
      "           leaf_blast       0.85      0.87      0.86       324\n",
      "           leaf_scald       0.95      0.96      0.96       308\n",
      "    narrow_brown_spot       0.90      0.90      0.90       269\n",
      "           neck_blast       0.99      0.98      0.99       198\n",
      "           rice_hispa       0.96      0.86      0.91       252\n",
      "        sheath_blight       0.91      0.94      0.93       279\n",
      "               tungro       0.99      0.99      0.99       307\n",
      "\n",
      "             accuracy                           0.93      2761\n",
      "            macro avg       0.93      0.93      0.93      2761\n",
      "         weighted avg       0.93      0.93      0.93      2761\n",
      "\n"
     ]
    }
   ],
   "source": [
    "print(classification_report(y_true,predicted_categories,target_names=class_name))"
   ]
  },
  {
   "cell_type": "code",
   "execution_count": 43,
   "id": "1aeaf32a-6c9b-4740-922b-541b6f192bee",
   "metadata": {},
   "outputs": [
    {
     "data": {
      "text/plain": [
       "array([[260,   0,   0,   1,   0,   0,   0,   0,   2,   0],\n",
       "       [  0, 255,   2,  16,   0,   4,   0,   0,   2,   0],\n",
       "       [  0,   8, 253,   9,   2,   1,   0,   7,   2,   0],\n",
       "       [  0,  15,   7, 282,   4,  13,   0,   0,   2,   1],\n",
       "       [  0,   2,   0,   2, 295,   6,   0,   0,   3,   0],\n",
       "       [  0,   4,   0,  11,   3, 241,   0,   0,  10,   0],\n",
       "       [  0,   0,   0,   0,   0,   0, 195,   0,   1,   2],\n",
       "       [  0,   3,  26,   3,   0,   0,   1, 217,   2,   0],\n",
       "       [  0,   0,   1,   6,   5,   3,   0,   1, 263,   0],\n",
       "       [  0,   0,   0,   1,   0,   1,   0,   0,   1, 304]])"
      ]
     },
     "execution_count": 43,
     "metadata": {},
     "output_type": "execute_result"
    }
   ],
   "source": [
    "cm = confusion_matrix(y_true,predicted_categories)\n",
    "cm"
   ]
  },
  {
   "cell_type": "markdown",
   "id": "e2a9e3c6-fd2d-4ecc-89b3-e526cde0ee5e",
   "metadata": {},
   "source": [
    "##Confusion Matrix Visualization"
   ]
  },
  {
   "cell_type": "code",
   "execution_count": 44,
   "id": "775520b2-42e1-417e-9638-fd9af11cc9f2",
   "metadata": {},
   "outputs": [
    {
     "data": {
      "image/png": "[encoded data removed]",
      "text/plain": [
       "<Figure size 1200x1200 with 2 Axes>"
      ]
     },
     "metadata": {},
     "output_type": "display_data"
    }
   ],
   "source": [
    "plt.figure(figsize=(12,12))\n",
    "sns.heatmap(cm,annot=True)\n",
    "plt.xlabel(\"predicted Class\")\n",
    "plt.ylabel(\"Actual Class\")\n",
    "plt.title(\"Rice Leaf Disease Detection Confusion Matrix\")\n",
    "plt.show()"
   ]
  }
 ],
 "metadata": {
  "kernelspec": {
   "display_name": "Python 3 (ipykernel)",
   "language": "python",
   "name": "python3"
  },
  "language_info": {
   "codemirror_mode": {
    "name": "ipython",
    "version": 3
   },
   "file_extension": ".py",
   "mimetype": "text/x-python",
   "name": "python",
   "nbconvert_exporter": "python",
   "pygments_lexer": "ipython3",
   "version": "3.10.16"
  }
 },
 "nbformat": 4,
 "nbformat_minor": 5
}
